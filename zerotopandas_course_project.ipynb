{
  "nbformat": 4,
  "nbformat_minor": 2,
  "metadata": {
    "colab": {
      "name": "zerotopandas_course_project.ipynb",
      "provenance": [],
      "collapsed_sections": [
        "fDSqL9Z70Th-",
        "c3ImF58e0TiL",
        "7KHtBuC60TiM"
      ],
      "include_colab_link": true
    },
    "kernelspec": {
      "name": "python3",
      "display_name": "Python 3.9.5 64-bit ('base': conda)"
    },
    "language_info": {
      "codemirror_mode": {
        "name": "ipython",
        "version": 3
      },
      "file_extension": ".py",
      "mimetype": "text/x-python",
      "name": "python",
      "nbconvert_exporter": "python",
      "pygments_lexer": "ipython3",
      "version": "3.9.5"
    },
    "interpreter": {
      "hash": "44bffcc2524e38608a696a60ab9c1ef6baa0a68b85b72c7901edd1bc52de9274"
    }
  },
  "cells": [
    {
      "cell_type": "markdown",
      "source": [
        "<a href=\"https://colab.research.google.com/github/NicoWright/Data-Analysis-Projects/blob/main/ZerotoPandas-Course-Project-zerotopandas_course_project.ipynb\" target=\"_parent\"><img src=\"https://colab.research.google.com/assets/colab-badge.svg\" alt=\"Open In Colab\"/></a>"
      ],
      "metadata": {
        "id": "view-in-github",
        "colab_type": "text"
      }
    },
    {
      "cell_type": "markdown",
      "source": [
        "# Automobile Insurance Data Exploration\n",
        "**Nico Wright**\n",
        "\n",
        "Final Project for Course: \n",
        "[Data Analysis with Python: Zero to Pandas](zerotopandas.com).\n",
        "\n",
        "**TODO** - Write some introduction about your project here: describe the dataset, where you got it from, what you're trying to do with it, and which tools & techniques you're using. \n",
        "\n",
        "Will be using python, pandas, numpy, matplotlib and seaborn to analyze and visualize data taken from linked source.\n",
        "https://www.kaggle.com/aashishjhamtani/automobile-insurance"
      ],
      "metadata": {
        "id": "Ss-8epAl0Th9"
      }
    },
    {
      "cell_type": "markdown",
      "source": [
        "## Data Preparation and Cleaning\n",
        "\n",
        "We will import the necessary modules for analysis and understand the shape and content of our data\n"
      ],
      "metadata": {
        "id": "z4M5z4vz0TiD"
      }
    },
    {
      "cell_type": "code",
      "execution_count": 1,
      "source": [
        "import pandas as pd\r\n",
        "import numpy as np"
      ],
      "outputs": [],
      "metadata": {
        "id": "J9y1qwtG0TiE"
      }
    },
    {
      "cell_type": "code",
      "execution_count": 2,
      "source": [
        "df = pd.read_csv('insurance_claims.csv')"
      ],
      "outputs": [],
      "metadata": {
        "id": "AcuduT5n8E5p"
      }
    },
    {
      "cell_type": "code",
      "execution_count": 3,
      "source": [
        "df"
      ],
      "outputs": [
        {
          "output_type": "execute_result",
          "data": {
            "text/html": [
              "<div>\n",
              "<style scoped>\n",
              "    .dataframe tbody tr th:only-of-type {\n",
              "        vertical-align: middle;\n",
              "    }\n",
              "\n",
              "    .dataframe tbody tr th {\n",
              "        vertical-align: top;\n",
              "    }\n",
              "\n",
              "    .dataframe thead th {\n",
              "        text-align: right;\n",
              "    }\n",
              "</style>\n",
              "<table border=\"1\" class=\"dataframe\">\n",
              "  <thead>\n",
              "    <tr style=\"text-align: right;\">\n",
              "      <th></th>\n",
              "      <th>months_as_customer</th>\n",
              "      <th>age</th>\n",
              "      <th>policy_number</th>\n",
              "      <th>policy_bind_date</th>\n",
              "      <th>policy_state</th>\n",
              "      <th>policy_csl</th>\n",
              "      <th>policy_deductable</th>\n",
              "      <th>policy_annual_premium</th>\n",
              "      <th>umbrella_limit</th>\n",
              "      <th>insured_zip</th>\n",
              "      <th>...</th>\n",
              "      <th>police_report_available</th>\n",
              "      <th>total_claim_amount</th>\n",
              "      <th>injury_claim</th>\n",
              "      <th>property_claim</th>\n",
              "      <th>vehicle_claim</th>\n",
              "      <th>auto_make</th>\n",
              "      <th>auto_model</th>\n",
              "      <th>auto_year</th>\n",
              "      <th>fraud_reported</th>\n",
              "      <th>_c39</th>\n",
              "    </tr>\n",
              "  </thead>\n",
              "  <tbody>\n",
              "    <tr>\n",
              "      <th>0</th>\n",
              "      <td>328</td>\n",
              "      <td>48</td>\n",
              "      <td>521585</td>\n",
              "      <td>2014-10-17</td>\n",
              "      <td>OH</td>\n",
              "      <td>250/500</td>\n",
              "      <td>1000</td>\n",
              "      <td>1406.91</td>\n",
              "      <td>0</td>\n",
              "      <td>466132</td>\n",
              "      <td>...</td>\n",
              "      <td>YES</td>\n",
              "      <td>71610</td>\n",
              "      <td>6510</td>\n",
              "      <td>13020</td>\n",
              "      <td>52080</td>\n",
              "      <td>Saab</td>\n",
              "      <td>92x</td>\n",
              "      <td>2004</td>\n",
              "      <td>Y</td>\n",
              "      <td>NaN</td>\n",
              "    </tr>\n",
              "    <tr>\n",
              "      <th>1</th>\n",
              "      <td>228</td>\n",
              "      <td>42</td>\n",
              "      <td>342868</td>\n",
              "      <td>2006-06-27</td>\n",
              "      <td>IN</td>\n",
              "      <td>250/500</td>\n",
              "      <td>2000</td>\n",
              "      <td>1197.22</td>\n",
              "      <td>5000000</td>\n",
              "      <td>468176</td>\n",
              "      <td>...</td>\n",
              "      <td>?</td>\n",
              "      <td>5070</td>\n",
              "      <td>780</td>\n",
              "      <td>780</td>\n",
              "      <td>3510</td>\n",
              "      <td>Mercedes</td>\n",
              "      <td>E400</td>\n",
              "      <td>2007</td>\n",
              "      <td>Y</td>\n",
              "      <td>NaN</td>\n",
              "    </tr>\n",
              "    <tr>\n",
              "      <th>2</th>\n",
              "      <td>134</td>\n",
              "      <td>29</td>\n",
              "      <td>687698</td>\n",
              "      <td>2000-09-06</td>\n",
              "      <td>OH</td>\n",
              "      <td>100/300</td>\n",
              "      <td>2000</td>\n",
              "      <td>1413.14</td>\n",
              "      <td>5000000</td>\n",
              "      <td>430632</td>\n",
              "      <td>...</td>\n",
              "      <td>NO</td>\n",
              "      <td>34650</td>\n",
              "      <td>7700</td>\n",
              "      <td>3850</td>\n",
              "      <td>23100</td>\n",
              "      <td>Dodge</td>\n",
              "      <td>RAM</td>\n",
              "      <td>2007</td>\n",
              "      <td>N</td>\n",
              "      <td>NaN</td>\n",
              "    </tr>\n",
              "    <tr>\n",
              "      <th>3</th>\n",
              "      <td>256</td>\n",
              "      <td>41</td>\n",
              "      <td>227811</td>\n",
              "      <td>1990-05-25</td>\n",
              "      <td>IL</td>\n",
              "      <td>250/500</td>\n",
              "      <td>2000</td>\n",
              "      <td>1415.74</td>\n",
              "      <td>6000000</td>\n",
              "      <td>608117</td>\n",
              "      <td>...</td>\n",
              "      <td>NO</td>\n",
              "      <td>63400</td>\n",
              "      <td>6340</td>\n",
              "      <td>6340</td>\n",
              "      <td>50720</td>\n",
              "      <td>Chevrolet</td>\n",
              "      <td>Tahoe</td>\n",
              "      <td>2014</td>\n",
              "      <td>Y</td>\n",
              "      <td>NaN</td>\n",
              "    </tr>\n",
              "    <tr>\n",
              "      <th>4</th>\n",
              "      <td>228</td>\n",
              "      <td>44</td>\n",
              "      <td>367455</td>\n",
              "      <td>2014-06-06</td>\n",
              "      <td>IL</td>\n",
              "      <td>500/1000</td>\n",
              "      <td>1000</td>\n",
              "      <td>1583.91</td>\n",
              "      <td>6000000</td>\n",
              "      <td>610706</td>\n",
              "      <td>...</td>\n",
              "      <td>NO</td>\n",
              "      <td>6500</td>\n",
              "      <td>1300</td>\n",
              "      <td>650</td>\n",
              "      <td>4550</td>\n",
              "      <td>Accura</td>\n",
              "      <td>RSX</td>\n",
              "      <td>2009</td>\n",
              "      <td>N</td>\n",
              "      <td>NaN</td>\n",
              "    </tr>\n",
              "    <tr>\n",
              "      <th>...</th>\n",
              "      <td>...</td>\n",
              "      <td>...</td>\n",
              "      <td>...</td>\n",
              "      <td>...</td>\n",
              "      <td>...</td>\n",
              "      <td>...</td>\n",
              "      <td>...</td>\n",
              "      <td>...</td>\n",
              "      <td>...</td>\n",
              "      <td>...</td>\n",
              "      <td>...</td>\n",
              "      <td>...</td>\n",
              "      <td>...</td>\n",
              "      <td>...</td>\n",
              "      <td>...</td>\n",
              "      <td>...</td>\n",
              "      <td>...</td>\n",
              "      <td>...</td>\n",
              "      <td>...</td>\n",
              "      <td>...</td>\n",
              "      <td>...</td>\n",
              "    </tr>\n",
              "    <tr>\n",
              "      <th>995</th>\n",
              "      <td>3</td>\n",
              "      <td>38</td>\n",
              "      <td>941851</td>\n",
              "      <td>1991-07-16</td>\n",
              "      <td>OH</td>\n",
              "      <td>500/1000</td>\n",
              "      <td>1000</td>\n",
              "      <td>1310.80</td>\n",
              "      <td>0</td>\n",
              "      <td>431289</td>\n",
              "      <td>...</td>\n",
              "      <td>?</td>\n",
              "      <td>87200</td>\n",
              "      <td>17440</td>\n",
              "      <td>8720</td>\n",
              "      <td>61040</td>\n",
              "      <td>Honda</td>\n",
              "      <td>Accord</td>\n",
              "      <td>2006</td>\n",
              "      <td>N</td>\n",
              "      <td>NaN</td>\n",
              "    </tr>\n",
              "    <tr>\n",
              "      <th>996</th>\n",
              "      <td>285</td>\n",
              "      <td>41</td>\n",
              "      <td>186934</td>\n",
              "      <td>2014-01-05</td>\n",
              "      <td>IL</td>\n",
              "      <td>100/300</td>\n",
              "      <td>1000</td>\n",
              "      <td>1436.79</td>\n",
              "      <td>0</td>\n",
              "      <td>608177</td>\n",
              "      <td>...</td>\n",
              "      <td>?</td>\n",
              "      <td>108480</td>\n",
              "      <td>18080</td>\n",
              "      <td>18080</td>\n",
              "      <td>72320</td>\n",
              "      <td>Volkswagen</td>\n",
              "      <td>Passat</td>\n",
              "      <td>2015</td>\n",
              "      <td>N</td>\n",
              "      <td>NaN</td>\n",
              "    </tr>\n",
              "    <tr>\n",
              "      <th>997</th>\n",
              "      <td>130</td>\n",
              "      <td>34</td>\n",
              "      <td>918516</td>\n",
              "      <td>2003-02-17</td>\n",
              "      <td>OH</td>\n",
              "      <td>250/500</td>\n",
              "      <td>500</td>\n",
              "      <td>1383.49</td>\n",
              "      <td>3000000</td>\n",
              "      <td>442797</td>\n",
              "      <td>...</td>\n",
              "      <td>YES</td>\n",
              "      <td>67500</td>\n",
              "      <td>7500</td>\n",
              "      <td>7500</td>\n",
              "      <td>52500</td>\n",
              "      <td>Suburu</td>\n",
              "      <td>Impreza</td>\n",
              "      <td>1996</td>\n",
              "      <td>N</td>\n",
              "      <td>NaN</td>\n",
              "    </tr>\n",
              "    <tr>\n",
              "      <th>998</th>\n",
              "      <td>458</td>\n",
              "      <td>62</td>\n",
              "      <td>533940</td>\n",
              "      <td>2011-11-18</td>\n",
              "      <td>IL</td>\n",
              "      <td>500/1000</td>\n",
              "      <td>2000</td>\n",
              "      <td>1356.92</td>\n",
              "      <td>5000000</td>\n",
              "      <td>441714</td>\n",
              "      <td>...</td>\n",
              "      <td>YES</td>\n",
              "      <td>46980</td>\n",
              "      <td>5220</td>\n",
              "      <td>5220</td>\n",
              "      <td>36540</td>\n",
              "      <td>Audi</td>\n",
              "      <td>A5</td>\n",
              "      <td>1998</td>\n",
              "      <td>N</td>\n",
              "      <td>NaN</td>\n",
              "    </tr>\n",
              "    <tr>\n",
              "      <th>999</th>\n",
              "      <td>456</td>\n",
              "      <td>60</td>\n",
              "      <td>556080</td>\n",
              "      <td>1996-11-11</td>\n",
              "      <td>OH</td>\n",
              "      <td>250/500</td>\n",
              "      <td>1000</td>\n",
              "      <td>766.19</td>\n",
              "      <td>0</td>\n",
              "      <td>612260</td>\n",
              "      <td>...</td>\n",
              "      <td>?</td>\n",
              "      <td>5060</td>\n",
              "      <td>460</td>\n",
              "      <td>920</td>\n",
              "      <td>3680</td>\n",
              "      <td>Mercedes</td>\n",
              "      <td>E400</td>\n",
              "      <td>2007</td>\n",
              "      <td>N</td>\n",
              "      <td>NaN</td>\n",
              "    </tr>\n",
              "  </tbody>\n",
              "</table>\n",
              "<p>1000 rows × 40 columns</p>\n",
              "</div>"
            ],
            "text/plain": [
              "     months_as_customer  age  policy_number policy_bind_date policy_state  \\\n",
              "0                   328   48         521585       2014-10-17           OH   \n",
              "1                   228   42         342868       2006-06-27           IN   \n",
              "2                   134   29         687698       2000-09-06           OH   \n",
              "3                   256   41         227811       1990-05-25           IL   \n",
              "4                   228   44         367455       2014-06-06           IL   \n",
              "..                  ...  ...            ...              ...          ...   \n",
              "995                   3   38         941851       1991-07-16           OH   \n",
              "996                 285   41         186934       2014-01-05           IL   \n",
              "997                 130   34         918516       2003-02-17           OH   \n",
              "998                 458   62         533940       2011-11-18           IL   \n",
              "999                 456   60         556080       1996-11-11           OH   \n",
              "\n",
              "    policy_csl  policy_deductable  policy_annual_premium  umbrella_limit  \\\n",
              "0      250/500               1000                1406.91               0   \n",
              "1      250/500               2000                1197.22         5000000   \n",
              "2      100/300               2000                1413.14         5000000   \n",
              "3      250/500               2000                1415.74         6000000   \n",
              "4     500/1000               1000                1583.91         6000000   \n",
              "..         ...                ...                    ...             ...   \n",
              "995   500/1000               1000                1310.80               0   \n",
              "996    100/300               1000                1436.79               0   \n",
              "997    250/500                500                1383.49         3000000   \n",
              "998   500/1000               2000                1356.92         5000000   \n",
              "999    250/500               1000                 766.19               0   \n",
              "\n",
              "     insured_zip  ... police_report_available total_claim_amount injury_claim  \\\n",
              "0         466132  ...                     YES              71610         6510   \n",
              "1         468176  ...                       ?               5070          780   \n",
              "2         430632  ...                      NO              34650         7700   \n",
              "3         608117  ...                      NO              63400         6340   \n",
              "4         610706  ...                      NO               6500         1300   \n",
              "..           ...  ...                     ...                ...          ...   \n",
              "995       431289  ...                       ?              87200        17440   \n",
              "996       608177  ...                       ?             108480        18080   \n",
              "997       442797  ...                     YES              67500         7500   \n",
              "998       441714  ...                     YES              46980         5220   \n",
              "999       612260  ...                       ?               5060          460   \n",
              "\n",
              "    property_claim vehicle_claim   auto_make  auto_model auto_year  \\\n",
              "0            13020         52080        Saab         92x      2004   \n",
              "1              780          3510    Mercedes        E400      2007   \n",
              "2             3850         23100       Dodge         RAM      2007   \n",
              "3             6340         50720   Chevrolet       Tahoe      2014   \n",
              "4              650          4550      Accura         RSX      2009   \n",
              "..             ...           ...         ...         ...       ...   \n",
              "995           8720         61040       Honda      Accord      2006   \n",
              "996          18080         72320  Volkswagen      Passat      2015   \n",
              "997           7500         52500      Suburu     Impreza      1996   \n",
              "998           5220         36540        Audi          A5      1998   \n",
              "999            920          3680    Mercedes        E400      2007   \n",
              "\n",
              "    fraud_reported _c39  \n",
              "0                Y  NaN  \n",
              "1                Y  NaN  \n",
              "2                N  NaN  \n",
              "3                Y  NaN  \n",
              "4                N  NaN  \n",
              "..             ...  ...  \n",
              "995              N  NaN  \n",
              "996              N  NaN  \n",
              "997              N  NaN  \n",
              "998              N  NaN  \n",
              "999              N  NaN  \n",
              "\n",
              "[1000 rows x 40 columns]"
            ]
          },
          "metadata": {},
          "execution_count": 3
        }
      ],
      "metadata": {
        "colab": {
          "base_uri": "https://localhost:8080/",
          "height": 592
        },
        "id": "cahNeeyJAdl0",
        "outputId": "4cf9b930-67a8-4038-f149-6bc17bb5fc37"
      }
    },
    {
      "cell_type": "code",
      "execution_count": 4,
      "source": [
        "df.info()"
      ],
      "outputs": [
        {
          "output_type": "stream",
          "name": "stdout",
          "text": [
            "<class 'pandas.core.frame.DataFrame'>\n",
            "RangeIndex: 1000 entries, 0 to 999\n",
            "Data columns (total 40 columns):\n",
            " #   Column                       Non-Null Count  Dtype  \n",
            "---  ------                       --------------  -----  \n",
            " 0   months_as_customer           1000 non-null   int64  \n",
            " 1   age                          1000 non-null   int64  \n",
            " 2   policy_number                1000 non-null   int64  \n",
            " 3   policy_bind_date             1000 non-null   object \n",
            " 4   policy_state                 1000 non-null   object \n",
            " 5   policy_csl                   1000 non-null   object \n",
            " 6   policy_deductable            1000 non-null   int64  \n",
            " 7   policy_annual_premium        1000 non-null   float64\n",
            " 8   umbrella_limit               1000 non-null   int64  \n",
            " 9   insured_zip                  1000 non-null   int64  \n",
            " 10  insured_sex                  1000 non-null   object \n",
            " 11  insured_education_level      1000 non-null   object \n",
            " 12  insured_occupation           1000 non-null   object \n",
            " 13  insured_hobbies              1000 non-null   object \n",
            " 14  insured_relationship         1000 non-null   object \n",
            " 15  capital-gains                1000 non-null   int64  \n",
            " 16  capital-loss                 1000 non-null   int64  \n",
            " 17  incident_date                1000 non-null   object \n",
            " 18  incident_type                1000 non-null   object \n",
            " 19  collision_type               1000 non-null   object \n",
            " 20  incident_severity            1000 non-null   object \n",
            " 21  authorities_contacted        1000 non-null   object \n",
            " 22  incident_state               1000 non-null   object \n",
            " 23  incident_city                1000 non-null   object \n",
            " 24  incident_location            1000 non-null   object \n",
            " 25  incident_hour_of_the_day     1000 non-null   int64  \n",
            " 26  number_of_vehicles_involved  1000 non-null   int64  \n",
            " 27  property_damage              1000 non-null   object \n",
            " 28  bodily_injuries              1000 non-null   int64  \n",
            " 29  witnesses                    1000 non-null   int64  \n",
            " 30  police_report_available      1000 non-null   object \n",
            " 31  total_claim_amount           1000 non-null   int64  \n",
            " 32  injury_claim                 1000 non-null   int64  \n",
            " 33  property_claim               1000 non-null   int64  \n",
            " 34  vehicle_claim                1000 non-null   int64  \n",
            " 35  auto_make                    1000 non-null   object \n",
            " 36  auto_model                   1000 non-null   object \n",
            " 37  auto_year                    1000 non-null   int64  \n",
            " 38  fraud_reported               1000 non-null   object \n",
            " 39  _c39                         0 non-null      float64\n",
            "dtypes: float64(2), int64(17), object(21)\n",
            "memory usage: 312.6+ KB\n"
          ]
        }
      ],
      "metadata": {
        "colab": {
          "base_uri": "https://localhost:8080/"
        },
        "id": "8xXg0UBa9tcQ",
        "outputId": "684ba658-5e11-4737-8114-10c206af2c18"
      }
    },
    {
      "cell_type": "code",
      "execution_count": 5,
      "source": [
        "df.incident_date = pd.to_datetime(df.incident_date)\r\n",
        "df.policy_bind_date = pd.to_datetime(df.policy_bind_date)"
      ],
      "outputs": [],
      "metadata": {}
    },
    {
      "cell_type": "code",
      "execution_count": 6,
      "source": [
        "print(df.incident_date.max())\r\n",
        "print(df.incident_date.min())"
      ],
      "outputs": [
        {
          "output_type": "stream",
          "name": "stdout",
          "text": [
            "2015-03-01 00:00:00\n",
            "2015-01-01 00:00:00\n"
          ]
        }
      ],
      "metadata": {}
    },
    {
      "cell_type": "markdown",
      "source": [
        "It seems this dataset has 1000 rows and 40 columns. There are no non vull values and the data types are already assigned to make analysis easier. While data cleansing is an integral part of the data analysis process, this data set will provide enough content to dig into and make interesting conclusions.\n",
        "\n",
        "The dataset also collects data from January 1st 2015 until March 1st 2015. Three months of data in a single year is not a large enough sample size to draw any meaningful conclusions from. The rest of the analysis then is to theorize based on connections we notice.\n",
        "\n",
        "Note: CSL is a single number that describes the predetermined limit for the combined total of the Bodily Injury Liability coverage and Property Damage Liability coverage per occurrence or accident."
      ],
      "metadata": {
        "id": "zeWH7uTY9zHP"
      }
    },
    {
      "cell_type": "markdown",
      "source": [
        "Set policy state and incident state to full name of state instead of abbreviation"
      ],
      "metadata": {
        "id": "u9v8aE5sCbcL"
      }
    },
    {
      "cell_type": "code",
      "execution_count": 7,
      "source": [
        "states_dict = {\r\n",
        "    \"AK\" : \"Alaska\",\r\n",
        "    \"AL\" : \"Alabama\",\r\n",
        "    \"AR\" : \"Arkansas\",\r\n",
        "    \"AS\" : \"American Samoa\",\r\n",
        "    \"AZ\" : \"Arizona\",\r\n",
        "    \"CA\" : \"California\",\r\n",
        "    \"CO\" : \"Colorado\",\r\n",
        "    \"CT\" : \"Connecticut\",\r\n",
        "    \"DC\" : \"District of Columbia\",\r\n",
        "    \"DE\" : \"Delaware\",\r\n",
        "    \"FL\" : \"Florida\",\r\n",
        "    \"GA\" : \"Georgia\",\r\n",
        "    \"GU\" : \"Guam\",\r\n",
        "    \"HI\" : \"Hawaii\",\r\n",
        "    \"IA\" : \"Iowa\",\r\n",
        "    \"ID\" : \"Idaho\",\r\n",
        "    \"IL\" : \"Illinois\",\r\n",
        "    \"IN\" : \"Indiana\",\r\n",
        "    \"KS\" : \"Kansas\",\r\n",
        "    \"KY\" : \"Kentucky\",\r\n",
        "    \"LA\" : \"Louisiana\",\r\n",
        "    \"MA\" : \"Massachusetts\",\r\n",
        "    \"MD\" : \"Maryland\",\r\n",
        "    \"ME\" : \"Maine\",\r\n",
        "    \"MI\" : \"Michigan\",\r\n",
        "    \"MN\" : \"Minnesota\",\r\n",
        "    \"MO\" : \"Missouri\",\r\n",
        "    \"MS\" : \"Mississippi\",\r\n",
        "    \"MT\" : \"Montana\",\r\n",
        "    \"NC\" : \"North Carolina\",\r\n",
        "    \"ND\" : \" North Dakota\",\r\n",
        "    \"NE\" : \"Nebraska\",\r\n",
        "    \"NH\" : \"New Hampshire\",\r\n",
        "    \"NJ\" : \"New Jersey\",\r\n",
        "    \"NM\" : \"New Mexico\",\r\n",
        "    \"NV\" : \"Nevada\",\r\n",
        "    \"NY\" : \"New York\",\r\n",
        "    \"OH\" : \"Ohio\",\r\n",
        "    \"OK\" : \"Oklahoma\",\r\n",
        "    \"OR\" : \"Oregon\",\r\n",
        "    \"PA\" : \"Pennsylvania\",\r\n",
        "    \"PR\" : \"Puerto Rico\",\r\n",
        "    \"RI\" : \"Rhode Island\",\r\n",
        "    \"SC\" : \"South Carolina\",\r\n",
        "    \"SD\" : \"South Dakota\",\r\n",
        "    \"TN\" : \"Tennessee\",\r\n",
        "    \"TX\" : \"Texas\",\r\n",
        "    \"UT\" : \"Utah\",\r\n",
        "    \"VA\" : \"Virginia\",\r\n",
        "    \"VI\" : \"Virgin Islands\",\r\n",
        "    \"VT\" : \"Vermont\",\r\n",
        "    \"WA\" : \"Washington\",\r\n",
        "    \"WI\" : \"Wisconsin\",\r\n",
        "    \"WV\" : \"West Virginia\",\r\n",
        "    \"WY\" : \"Wyoming\"\r\n",
        "}"
      ],
      "outputs": [],
      "metadata": {
        "id": "4RS8esA2BdNf"
      }
    },
    {
      "cell_type": "markdown",
      "source": [
        "Data Cleaning"
      ],
      "metadata": {}
    },
    {
      "cell_type": "code",
      "execution_count": 8,
      "source": [
        "df.policy_state = df.policy_state.map(states_dict)\r\n",
        "df.incident_state = df.incident_state.map(states_dict)\r\n",
        "df['years_as_customer'] = df.months_as_customer/12"
      ],
      "outputs": [],
      "metadata": {
        "id": "rjaZg7cpCSYB"
      }
    },
    {
      "cell_type": "markdown",
      "source": [
        "## Exploratory Analysis and Visualization\n",
        "\n",
        "- Compute the mean, sum, range and other interesting statistics for numeric columns\n",
        "- Explore distributions of numeric columns using histograms etc.\n",
        "- Explore relationship between columns using scatter plots, bar charts etc.\n",
        "- Make a note of interesting insights from the exploratory analysis"
      ],
      "metadata": {
        "id": "ELIFZw390TiF"
      }
    },
    {
      "cell_type": "markdown",
      "source": [
        "Let's begin by importing`matplotlib.pyplot` and `seaborn`."
      ],
      "metadata": {
        "id": "D9D8s-wQ0TiF"
      }
    },
    {
      "cell_type": "code",
      "execution_count": 10,
      "source": [
        "import seaborn as sns\r\n",
        "import matplotlib\r\n",
        "import matplotlib.pyplot as plt\r\n",
        "%matplotlib inline\r\n",
        "\r\n",
        "sns.set_style('whitegrid')\r\n",
        "matplotlib.rcParams['font.size'] = 14\r\n",
        "matplotlib.rcParams['figure.figsize'] = (9, 5)\r\n",
        "#matplotlib.rcParams['figure.facecolor'] = '#00000000'"
      ],
      "outputs": [],
      "metadata": {
        "id": "Wx3bVhy70TiG"
      }
    },
    {
      "cell_type": "code",
      "execution_count": 11,
      "source": [
        "df.describe()"
      ],
      "outputs": [
        {
          "output_type": "execute_result",
          "data": {
            "text/html": [
              "<div>\n",
              "<style scoped>\n",
              "    .dataframe tbody tr th:only-of-type {\n",
              "        vertical-align: middle;\n",
              "    }\n",
              "\n",
              "    .dataframe tbody tr th {\n",
              "        vertical-align: top;\n",
              "    }\n",
              "\n",
              "    .dataframe thead th {\n",
              "        text-align: right;\n",
              "    }\n",
              "</style>\n",
              "<table border=\"1\" class=\"dataframe\">\n",
              "  <thead>\n",
              "    <tr style=\"text-align: right;\">\n",
              "      <th></th>\n",
              "      <th>months_as_customer</th>\n",
              "      <th>age</th>\n",
              "      <th>policy_number</th>\n",
              "      <th>policy_deductable</th>\n",
              "      <th>policy_annual_premium</th>\n",
              "      <th>umbrella_limit</th>\n",
              "      <th>insured_zip</th>\n",
              "      <th>capital-gains</th>\n",
              "      <th>capital-loss</th>\n",
              "      <th>incident_hour_of_the_day</th>\n",
              "      <th>number_of_vehicles_involved</th>\n",
              "      <th>bodily_injuries</th>\n",
              "      <th>witnesses</th>\n",
              "      <th>total_claim_amount</th>\n",
              "      <th>injury_claim</th>\n",
              "      <th>property_claim</th>\n",
              "      <th>vehicle_claim</th>\n",
              "      <th>auto_year</th>\n",
              "      <th>_c39</th>\n",
              "      <th>years_as_customer</th>\n",
              "    </tr>\n",
              "  </thead>\n",
              "  <tbody>\n",
              "    <tr>\n",
              "      <th>count</th>\n",
              "      <td>1000.000000</td>\n",
              "      <td>1000.000000</td>\n",
              "      <td>1000.000000</td>\n",
              "      <td>1000.000000</td>\n",
              "      <td>1000.000000</td>\n",
              "      <td>1.000000e+03</td>\n",
              "      <td>1000.000000</td>\n",
              "      <td>1000.000000</td>\n",
              "      <td>1000.000000</td>\n",
              "      <td>1000.000000</td>\n",
              "      <td>1000.00000</td>\n",
              "      <td>1000.000000</td>\n",
              "      <td>1000.000000</td>\n",
              "      <td>1000.00000</td>\n",
              "      <td>1000.000000</td>\n",
              "      <td>1000.000000</td>\n",
              "      <td>1000.000000</td>\n",
              "      <td>1000.000000</td>\n",
              "      <td>0.0</td>\n",
              "      <td>1000.000000</td>\n",
              "    </tr>\n",
              "    <tr>\n",
              "      <th>mean</th>\n",
              "      <td>203.954000</td>\n",
              "      <td>38.948000</td>\n",
              "      <td>546238.648000</td>\n",
              "      <td>1136.000000</td>\n",
              "      <td>1256.406150</td>\n",
              "      <td>1.101000e+06</td>\n",
              "      <td>501214.488000</td>\n",
              "      <td>25126.100000</td>\n",
              "      <td>-26793.700000</td>\n",
              "      <td>11.644000</td>\n",
              "      <td>1.83900</td>\n",
              "      <td>0.992000</td>\n",
              "      <td>1.487000</td>\n",
              "      <td>52761.94000</td>\n",
              "      <td>7433.420000</td>\n",
              "      <td>7399.570000</td>\n",
              "      <td>37928.950000</td>\n",
              "      <td>2005.103000</td>\n",
              "      <td>NaN</td>\n",
              "      <td>16.996167</td>\n",
              "    </tr>\n",
              "    <tr>\n",
              "      <th>std</th>\n",
              "      <td>115.113174</td>\n",
              "      <td>9.140287</td>\n",
              "      <td>257063.005276</td>\n",
              "      <td>611.864673</td>\n",
              "      <td>244.167395</td>\n",
              "      <td>2.297407e+06</td>\n",
              "      <td>71701.610941</td>\n",
              "      <td>27872.187708</td>\n",
              "      <td>28104.096686</td>\n",
              "      <td>6.951373</td>\n",
              "      <td>1.01888</td>\n",
              "      <td>0.820127</td>\n",
              "      <td>1.111335</td>\n",
              "      <td>26401.53319</td>\n",
              "      <td>4880.951853</td>\n",
              "      <td>4824.726179</td>\n",
              "      <td>18886.252893</td>\n",
              "      <td>6.015861</td>\n",
              "      <td>NaN</td>\n",
              "      <td>9.592765</td>\n",
              "    </tr>\n",
              "    <tr>\n",
              "      <th>min</th>\n",
              "      <td>0.000000</td>\n",
              "      <td>19.000000</td>\n",
              "      <td>100804.000000</td>\n",
              "      <td>500.000000</td>\n",
              "      <td>433.330000</td>\n",
              "      <td>-1.000000e+06</td>\n",
              "      <td>430104.000000</td>\n",
              "      <td>0.000000</td>\n",
              "      <td>-111100.000000</td>\n",
              "      <td>0.000000</td>\n",
              "      <td>1.00000</td>\n",
              "      <td>0.000000</td>\n",
              "      <td>0.000000</td>\n",
              "      <td>100.00000</td>\n",
              "      <td>0.000000</td>\n",
              "      <td>0.000000</td>\n",
              "      <td>70.000000</td>\n",
              "      <td>1995.000000</td>\n",
              "      <td>NaN</td>\n",
              "      <td>0.000000</td>\n",
              "    </tr>\n",
              "    <tr>\n",
              "      <th>25%</th>\n",
              "      <td>115.750000</td>\n",
              "      <td>32.000000</td>\n",
              "      <td>335980.250000</td>\n",
              "      <td>500.000000</td>\n",
              "      <td>1089.607500</td>\n",
              "      <td>0.000000e+00</td>\n",
              "      <td>448404.500000</td>\n",
              "      <td>0.000000</td>\n",
              "      <td>-51500.000000</td>\n",
              "      <td>6.000000</td>\n",
              "      <td>1.00000</td>\n",
              "      <td>0.000000</td>\n",
              "      <td>1.000000</td>\n",
              "      <td>41812.50000</td>\n",
              "      <td>4295.000000</td>\n",
              "      <td>4445.000000</td>\n",
              "      <td>30292.500000</td>\n",
              "      <td>2000.000000</td>\n",
              "      <td>NaN</td>\n",
              "      <td>9.645833</td>\n",
              "    </tr>\n",
              "    <tr>\n",
              "      <th>50%</th>\n",
              "      <td>199.500000</td>\n",
              "      <td>38.000000</td>\n",
              "      <td>533135.000000</td>\n",
              "      <td>1000.000000</td>\n",
              "      <td>1257.200000</td>\n",
              "      <td>0.000000e+00</td>\n",
              "      <td>466445.500000</td>\n",
              "      <td>0.000000</td>\n",
              "      <td>-23250.000000</td>\n",
              "      <td>12.000000</td>\n",
              "      <td>1.00000</td>\n",
              "      <td>1.000000</td>\n",
              "      <td>1.000000</td>\n",
              "      <td>58055.00000</td>\n",
              "      <td>6775.000000</td>\n",
              "      <td>6750.000000</td>\n",
              "      <td>42100.000000</td>\n",
              "      <td>2005.000000</td>\n",
              "      <td>NaN</td>\n",
              "      <td>16.625000</td>\n",
              "    </tr>\n",
              "    <tr>\n",
              "      <th>75%</th>\n",
              "      <td>276.250000</td>\n",
              "      <td>44.000000</td>\n",
              "      <td>759099.750000</td>\n",
              "      <td>2000.000000</td>\n",
              "      <td>1415.695000</td>\n",
              "      <td>0.000000e+00</td>\n",
              "      <td>603251.000000</td>\n",
              "      <td>51025.000000</td>\n",
              "      <td>0.000000</td>\n",
              "      <td>17.000000</td>\n",
              "      <td>3.00000</td>\n",
              "      <td>2.000000</td>\n",
              "      <td>2.000000</td>\n",
              "      <td>70592.50000</td>\n",
              "      <td>11305.000000</td>\n",
              "      <td>10885.000000</td>\n",
              "      <td>50822.500000</td>\n",
              "      <td>2010.000000</td>\n",
              "      <td>NaN</td>\n",
              "      <td>23.020833</td>\n",
              "    </tr>\n",
              "    <tr>\n",
              "      <th>max</th>\n",
              "      <td>479.000000</td>\n",
              "      <td>64.000000</td>\n",
              "      <td>999435.000000</td>\n",
              "      <td>2000.000000</td>\n",
              "      <td>2047.590000</td>\n",
              "      <td>1.000000e+07</td>\n",
              "      <td>620962.000000</td>\n",
              "      <td>100500.000000</td>\n",
              "      <td>0.000000</td>\n",
              "      <td>23.000000</td>\n",
              "      <td>4.00000</td>\n",
              "      <td>2.000000</td>\n",
              "      <td>3.000000</td>\n",
              "      <td>114920.00000</td>\n",
              "      <td>21450.000000</td>\n",
              "      <td>23670.000000</td>\n",
              "      <td>79560.000000</td>\n",
              "      <td>2015.000000</td>\n",
              "      <td>NaN</td>\n",
              "      <td>39.916667</td>\n",
              "    </tr>\n",
              "  </tbody>\n",
              "</table>\n",
              "</div>"
            ],
            "text/plain": [
              "       months_as_customer          age  policy_number  policy_deductable  \\\n",
              "count         1000.000000  1000.000000    1000.000000        1000.000000   \n",
              "mean           203.954000    38.948000  546238.648000        1136.000000   \n",
              "std            115.113174     9.140287  257063.005276         611.864673   \n",
              "min              0.000000    19.000000  100804.000000         500.000000   \n",
              "25%            115.750000    32.000000  335980.250000         500.000000   \n",
              "50%            199.500000    38.000000  533135.000000        1000.000000   \n",
              "75%            276.250000    44.000000  759099.750000        2000.000000   \n",
              "max            479.000000    64.000000  999435.000000        2000.000000   \n",
              "\n",
              "       policy_annual_premium  umbrella_limit    insured_zip  capital-gains  \\\n",
              "count            1000.000000    1.000000e+03    1000.000000    1000.000000   \n",
              "mean             1256.406150    1.101000e+06  501214.488000   25126.100000   \n",
              "std               244.167395    2.297407e+06   71701.610941   27872.187708   \n",
              "min               433.330000   -1.000000e+06  430104.000000       0.000000   \n",
              "25%              1089.607500    0.000000e+00  448404.500000       0.000000   \n",
              "50%              1257.200000    0.000000e+00  466445.500000       0.000000   \n",
              "75%              1415.695000    0.000000e+00  603251.000000   51025.000000   \n",
              "max              2047.590000    1.000000e+07  620962.000000  100500.000000   \n",
              "\n",
              "        capital-loss  incident_hour_of_the_day  number_of_vehicles_involved  \\\n",
              "count    1000.000000               1000.000000                   1000.00000   \n",
              "mean   -26793.700000                 11.644000                      1.83900   \n",
              "std     28104.096686                  6.951373                      1.01888   \n",
              "min   -111100.000000                  0.000000                      1.00000   \n",
              "25%    -51500.000000                  6.000000                      1.00000   \n",
              "50%    -23250.000000                 12.000000                      1.00000   \n",
              "75%         0.000000                 17.000000                      3.00000   \n",
              "max         0.000000                 23.000000                      4.00000   \n",
              "\n",
              "       bodily_injuries    witnesses  total_claim_amount  injury_claim  \\\n",
              "count      1000.000000  1000.000000          1000.00000   1000.000000   \n",
              "mean          0.992000     1.487000         52761.94000   7433.420000   \n",
              "std           0.820127     1.111335         26401.53319   4880.951853   \n",
              "min           0.000000     0.000000           100.00000      0.000000   \n",
              "25%           0.000000     1.000000         41812.50000   4295.000000   \n",
              "50%           1.000000     1.000000         58055.00000   6775.000000   \n",
              "75%           2.000000     2.000000         70592.50000  11305.000000   \n",
              "max           2.000000     3.000000        114920.00000  21450.000000   \n",
              "\n",
              "       property_claim  vehicle_claim    auto_year  _c39  years_as_customer  \n",
              "count     1000.000000    1000.000000  1000.000000   0.0        1000.000000  \n",
              "mean      7399.570000   37928.950000  2005.103000   NaN          16.996167  \n",
              "std       4824.726179   18886.252893     6.015861   NaN           9.592765  \n",
              "min          0.000000      70.000000  1995.000000   NaN           0.000000  \n",
              "25%       4445.000000   30292.500000  2000.000000   NaN           9.645833  \n",
              "50%       6750.000000   42100.000000  2005.000000   NaN          16.625000  \n",
              "75%      10885.000000   50822.500000  2010.000000   NaN          23.020833  \n",
              "max      23670.000000   79560.000000  2015.000000   NaN          39.916667  "
            ]
          },
          "metadata": {},
          "execution_count": 11
        }
      ],
      "metadata": {}
    },
    {
      "cell_type": "markdown",
      "source": [
        "### Columns to Explore\n",
        "- years_as_customer\n",
        "- policy_state\n",
        "- incident_state\n",
        "- insured_education_level\n",
        "- insured_occupation\n",
        "- incident_type\n",
        "- collision_type\n",
        "- incident_severity\n",
        "- total_claim_amount\n",
        "- fraud_reported"
      ],
      "metadata": {
        "id": "wGGUrgdu0TiH"
      }
    },
    {
      "cell_type": "code",
      "execution_count": 12,
      "source": [
        "df.info()"
      ],
      "outputs": [
        {
          "output_type": "stream",
          "name": "stdout",
          "text": [
            "<class 'pandas.core.frame.DataFrame'>\n",
            "RangeIndex: 1000 entries, 0 to 999\n",
            "Data columns (total 41 columns):\n",
            " #   Column                       Non-Null Count  Dtype         \n",
            "---  ------                       --------------  -----         \n",
            " 0   months_as_customer           1000 non-null   int64         \n",
            " 1   age                          1000 non-null   int64         \n",
            " 2   policy_number                1000 non-null   int64         \n",
            " 3   policy_bind_date             1000 non-null   datetime64[ns]\n",
            " 4   policy_state                 1000 non-null   object        \n",
            " 5   policy_csl                   1000 non-null   object        \n",
            " 6   policy_deductable            1000 non-null   int64         \n",
            " 7   policy_annual_premium        1000 non-null   float64       \n",
            " 8   umbrella_limit               1000 non-null   int64         \n",
            " 9   insured_zip                  1000 non-null   int64         \n",
            " 10  insured_sex                  1000 non-null   object        \n",
            " 11  insured_education_level      1000 non-null   object        \n",
            " 12  insured_occupation           1000 non-null   object        \n",
            " 13  insured_hobbies              1000 non-null   object        \n",
            " 14  insured_relationship         1000 non-null   object        \n",
            " 15  capital-gains                1000 non-null   int64         \n",
            " 16  capital-loss                 1000 non-null   int64         \n",
            " 17  incident_date                1000 non-null   datetime64[ns]\n",
            " 18  incident_type                1000 non-null   object        \n",
            " 19  collision_type               1000 non-null   object        \n",
            " 20  incident_severity            1000 non-null   object        \n",
            " 21  authorities_contacted        1000 non-null   object        \n",
            " 22  incident_state               1000 non-null   object        \n",
            " 23  incident_city                1000 non-null   object        \n",
            " 24  incident_location            1000 non-null   object        \n",
            " 25  incident_hour_of_the_day     1000 non-null   int64         \n",
            " 26  number_of_vehicles_involved  1000 non-null   int64         \n",
            " 27  property_damage              1000 non-null   object        \n",
            " 28  bodily_injuries              1000 non-null   int64         \n",
            " 29  witnesses                    1000 non-null   int64         \n",
            " 30  police_report_available      1000 non-null   object        \n",
            " 31  total_claim_amount           1000 non-null   int64         \n",
            " 32  injury_claim                 1000 non-null   int64         \n",
            " 33  property_claim               1000 non-null   int64         \n",
            " 34  vehicle_claim                1000 non-null   int64         \n",
            " 35  auto_make                    1000 non-null   object        \n",
            " 36  auto_model                   1000 non-null   object        \n",
            " 37  auto_year                    1000 non-null   int64         \n",
            " 38  fraud_reported               1000 non-null   object        \n",
            " 39  _c39                         0 non-null      float64       \n",
            " 40  years_as_customer            1000 non-null   float64       \n",
            "dtypes: datetime64[ns](2), float64(3), int64(17), object(19)\n",
            "memory usage: 320.4+ KB\n"
          ]
        }
      ],
      "metadata": {
        "colab": {
          "base_uri": "https://localhost:8080/"
        },
        "id": "PTEsZfHdmFjK",
        "outputId": "961e54d2-9372-41a9-833e-ca49e1ffce98"
      }
    },
    {
      "cell_type": "markdown",
      "source": [
        "#### Exploring years_as_customer column"
      ],
      "metadata": {
        "id": "-UJoGi8M0TiI"
      }
    },
    {
      "cell_type": "code",
      "execution_count": 13,
      "source": [
        "sns.histplot(df.years_as_customer);"
      ],
      "outputs": [
        {
          "output_type": "display_data",
          "data": {
            "image/png": "[encoded data removed]",
            "text/plain": [
              "<Figure size 648x360 with 1 Axes>"
            ]
          },
          "metadata": {}
        }
      ],
      "metadata": {
        "id": "bEccoR7M0TiI",
        "colab": {
          "base_uri": "https://localhost:8080/",
          "height": 342
        },
        "outputId": "9c1ca120-7bc1-4dc2-86cc-3d35126ae5c8"
      }
    },
    {
      "cell_type": "markdown",
      "source": [
        "Many people stay with their insurance for 10 years or more. People seem to be averse to switching auto insurance.\r\n",
        "\r\n",
        "I theorized that policy premiums for loyal customers would be lower for new customers. To investigate I need to create bins for the ages and compare to the policy premiums"
      ],
      "metadata": {
        "id": "a_ymgVX6nA0Y"
      }
    },
    {
      "cell_type": "code",
      "execution_count": 14,
      "source": [
        "#bins = [0,10,20,30,40]\r\n",
        "bins = [0,5,10,15,20,25,30,]\r\n",
        "df['years_bin'] = pd.cut(df.years_as_customer, bins)"
      ],
      "outputs": [],
      "metadata": {
        "id": "kkP9TeenrJLK"
      }
    },
    {
      "cell_type": "code",
      "execution_count": 15,
      "source": [
        "sns.barplot(x='years_bin', y='policy_annual_premium', data=df);\r\n",
        "plt.title('Insurance Premiums Based on Length of Time as Customer')\r\n",
        "plt.xlabel('Age Ranges')\r\n",
        "plt.ylabel('Annual Premiums')"
      ],
      "outputs": [
        {
          "output_type": "execute_result",
          "data": {
            "text/plain": [
              "Text(0, 0.5, 'Annual Premiums')"
            ]
          },
          "metadata": {},
          "execution_count": 15
        },
        {
          "output_type": "display_data",
          "data": {
            "image/png": "[encoded data removed]",
            "text/plain": [
              "<Figure size 648x360 with 1 Axes>"
            ]
          },
          "metadata": {}
        }
      ],
      "metadata": {
        "colab": {
          "base_uri": "https://localhost:8080/",
          "height": 342
        },
        "id": "7T5KEl4LvSiF",
        "outputId": "b09a83e7-d642-414f-83c7-3c8183c96960"
      }
    },
    {
      "cell_type": "markdown",
      "source": [
        "**My guess here was wrong. Despite the lenght of time as a customer, the insurance premiums stay constant.**"
      ],
      "metadata": {}
    },
    {
      "cell_type": "markdown",
      "source": [
        "Does years as customer affect the total claim amounts?"
      ],
      "metadata": {
        "id": "IvMo4Djpwdnb"
      }
    },
    {
      "cell_type": "code",
      "execution_count": 28,
      "source": [
        "labels = df.years_bin.unique().sort_values().dropna()\r\n",
        "plt.pie(df['years_bin'].value_counts(), labels=labels, startangle=90);\r\n",
        "plt.title('Claim Amounts Based on Length of Time as Customer')"
      ],
      "outputs": [
        {
          "output_type": "execute_result",
          "data": {
            "text/plain": [
              "Text(0.5, 1.0, 'Claim Amounts Based on Length of Time as Customer')"
            ]
          },
          "metadata": {},
          "execution_count": 28
        },
        {
          "output_type": "display_data",
          "data": {
            "image/png": "[encoded data removed]",
            "text/plain": [
              "<Figure size 648x360 with 1 Axes>"
            ]
          },
          "metadata": {}
        }
      ],
      "metadata": {
        "colab": {
          "base_uri": "https://localhost:8080/",
          "height": 303
        },
        "id": "QPMblUETKZku",
        "outputId": "b08c6eff-be04-44ab-f408-38637e4f2558"
      }
    },
    {
      "cell_type": "markdown",
      "source": [
        "The number of claims filed by customers with less than 20 years of history is a higher than the rest. Is it true that younger drivers are involved in more accidents?\r\n",
        "\r\n",
        "New drivers are probably not shopping for new insurance after 5 years. Between 5-15 years are the highest percentage of claims filed. What is the reason?"
      ],
      "metadata": {
        "id": "Xid9tZQ83W91"
      }
    },
    {
      "cell_type": "markdown",
      "source": [
        "**Question:** What percentage of drivers have been customers for less than 20 years?"
      ],
      "metadata": {
        "id": "eakqULnL3H58"
      }
    },
    {
      "cell_type": "code",
      "execution_count": 48,
      "source": [
        "customers_less20 = df.years_bin.value_counts()[[1,2,3,4]].sum() / df.years_bin.value_counts().sum() * 100\r\n",
        "print('{}% of customers have been customers for less than 20 years'.format(int(customers_less20)))"
      ],
      "outputs": [
        {
          "output_type": "stream",
          "name": "stdout",
          "text": [
            "69% of customers have been customers for less than 20 years\n"
          ]
        }
      ],
      "metadata": {}
    },
    {
      "cell_type": "code",
      "execution_count": null,
      "source": [],
      "outputs": [],
      "metadata": {}
    },
    {
      "cell_type": "code",
      "execution_count": null,
      "source": [],
      "outputs": [],
      "metadata": {}
    },
    {
      "cell_type": "code",
      "execution_count": null,
      "source": [],
      "outputs": [],
      "metadata": {}
    },
    {
      "cell_type": "markdown",
      "source": [
        "## Asking and Answering Questions\n",
        "\n",
        "Questions\n",
        "- Ratio of incident types and collison types and which ones have the highest severity and claim amount\n",
        "- Property damage/bodiy injuries and type of incidents\n",
        "- Auto Makes/ Years with the highest number of incidents and claim amounts\n",
        "- Effect of fraud on the claim data\n",
        "- Is there a connection with number of witnesses and total claim amount?\n",
        "- What hour of the day is there the most accidents?\n",
        "- What states and cities have the most accidents\n",
        "- Relationship between policy state and incident state\n",
        "- Relationshop between months as customer and policy premium and deductibles\n",
        "- How does education and occupation affect incident rates?"
      ],
      "metadata": {
        "id": "WY7Kxkfr0TiJ"
      }
    },
    {
      "cell_type": "markdown",
      "source": [
        "#### Question 1"
      ],
      "metadata": {
        "id": "EgYWHEI50TiL"
      }
    },
    {
      "cell_type": "code",
      "execution_count": null,
      "source": [],
      "outputs": [],
      "metadata": {
        "id": "TPXC1zYX0TiL"
      }
    },
    {
      "cell_type": "code",
      "execution_count": null,
      "source": [],
      "outputs": [],
      "metadata": {
        "id": "gI6EIU5n0TiL"
      }
    },
    {
      "cell_type": "code",
      "execution_count": null,
      "source": [],
      "outputs": [],
      "metadata": {
        "id": "BYmaFYZi0TiL"
      }
    },
    {
      "cell_type": "markdown",
      "source": [
        "Let us save and upload our work to Jovian before continuing."
      ],
      "metadata": {
        "id": "JEZ6GJcu0TiL"
      }
    },
    {
      "cell_type": "code",
      "execution_count": null,
      "source": [
        "jovian.commit()"
      ],
      "outputs": [],
      "metadata": {
        "id": "nqj09cZB0TiL"
      }
    },
    {
      "cell_type": "markdown",
      "source": [
        "## Inferences and Conclusion\n",
        "\n",
        "**TODO** - Write some explanation here: a summary of all the inferences drawn from the analysis, and any conclusions you may have drawn by answering various questions."
      ],
      "metadata": {
        "id": "c3ImF58e0TiL"
      }
    },
    {
      "cell_type": "code",
      "execution_count": null,
      "source": [
        "import jovian"
      ],
      "outputs": [],
      "metadata": {
        "id": "KsmyDojv0TiL"
      }
    },
    {
      "cell_type": "code",
      "execution_count": null,
      "source": [
        "jovian.commit()"
      ],
      "outputs": [],
      "metadata": {
        "id": "IVpxSuqK0TiL",
        "outputId": "b5a1a2fa-21d2-4f62-ed56-30e8da76aeae"
      }
    },
    {
      "cell_type": "markdown",
      "source": [
        "## References and Future Work\n",
        "\n",
        "**TODO** - Write some explanation here: ideas for future projects using this dataset, and links to resources you found useful."
      ],
      "metadata": {
        "id": "7KHtBuC60TiM"
      }
    },
    {
      "cell_type": "markdown",
      "source": [
        "> Submission Instructions (delete this cell)\n",
        "> \n",
        "> - Upload your notebook to your Jovian.ml profile using `jovian.commit`.\n",
        "> - **Make a submission here**: https://jovian.ml/learn/data-analysis-with-python-zero-to-pandas/assignment/course-project\n",
        "> - Share your work on the forum: https://jovian.ml/forum/t/course-project-on-exploratory-data-analysis-discuss-and-share-your-work/11684\n",
        "> - Share your work on social media (Twitter, LinkedIn, Telegram etc.) and tag [@JovianML](https://twitter.com/jovianml)\n",
        ">\n",
        "> (Optional) Write a blog post\n",
        "> \n",
        "> - A blog post is a great way to present and showcase your work.  \n",
        "> - Sign up on [Medium.com](https://medium.com) to write a blog post for your project.\n",
        "> - Copy over the explanations from your Jupyter notebook into your blog post, and [embed code cells & outputs](https://medium.com/jovianml/share-and-embed-jupyter-notebooks-online-with-jovian-ml-df709a03064e)\n",
        "> - Check out the Jovian.ml Medium publication for inspiration: https://medium.com/jovianml\n",
        "\n",
        "\n",
        " "
      ],
      "metadata": {
        "id": "3noYOYet0TiM"
      }
    },
    {
      "cell_type": "code",
      "execution_count": null,
      "source": [
        "import jovian"
      ],
      "outputs": [],
      "metadata": {
        "id": "hS_buVej0TiM"
      }
    },
    {
      "cell_type": "code",
      "execution_count": null,
      "source": [
        "jovian.commit()"
      ],
      "outputs": [],
      "metadata": {
        "id": "VQ1-fPRY0TiM",
        "scrolled": true,
        "outputId": "baf481cc-c75a-4cfe-cda0-e1f757183577"
      }
    },
    {
      "cell_type": "code",
      "execution_count": null,
      "source": [],
      "outputs": [],
      "metadata": {
        "id": "wpO_5ya10TiM"
      }
    }
  ]
}